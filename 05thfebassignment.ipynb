{
 "cells": [
  {
   "cell_type": "code",
   "execution_count": 1,
   "id": "b1c5d5e2-1412-47ba-a11c-ca150162892f",
   "metadata": {},
   "outputs": [],
   "source": [
    "class Person:\n",
    "    def __init__(self, name, age):\n",
    "        self.name = name\n",
    "        self.age = age\n",
    "\n",
    "    def get_details(self):\n",
    "        return f\"Name: {self.name}, Age: {self.age}\""
   ]
  },
  {
   "cell_type": "code",
   "execution_count": 4,
   "id": "942e237a-3704-46b6-9c47-6cc760c3005f",
   "metadata": {},
   "outputs": [],
   "source": [
    "nilo=Person(36,'nilo')"
   ]
  },
  {
   "cell_type": "code",
   "execution_count": 5,
   "id": "172211eb-32b7-465d-a859-b8dab9fe73e7",
   "metadata": {},
   "outputs": [
    {
     "data": {
      "text/plain": [
       "'Name: 36, Age: nilo'"
      ]
     },
     "execution_count": 5,
     "metadata": {},
     "output_type": "execute_result"
    }
   ],
   "source": [
    "nilo.get_details()"
   ]
  },
  {
   "cell_type": "code",
   "execution_count": 6,
   "id": "91ad02f3-e002-4f6c-a8bf-d3631b0c284a",
   "metadata": {},
   "outputs": [
    {
     "data": {
      "text/plain": [
       "'An object is an instance of a class and represents a real-world entity. Objects have states and behaviors that are defined by the class. The state of an object is stored in its attributes, and its behavior is implemented through methods.'"
      ]
     },
     "execution_count": 6,
     "metadata": {},
     "output_type": "execute_result"
    }
   ],
   "source": [
    "'''An object is an instance of a class and represents a real-world entity. Objects have states and behaviors that are defined by the class. The state of an object is stored in its attributes, and its behavior is implemented through methods.'''"
   ]
  },
  {
   "cell_type": "code",
   "execution_count": 7,
   "id": "11c3b101-f34b-4775-bfc4-0f5edc44496d",
   "metadata": {},
   "outputs": [
    {
     "data": {
      "text/plain": [
       "'Polymorphism'"
      ]
     },
     "execution_count": 7,
     "metadata": {},
     "output_type": "execute_result"
    }
   ],
   "source": [
    "'''Abstraction'''\n",
    "'''Encapsulation'''\n",
    "'''Inheritance'''\n",
    "'''Polymorphism'''"
   ]
  },
  {
   "cell_type": "code",
   "execution_count": 8,
   "id": "3a46887a-70ee-4b56-9d17-ca2d25ecc70f",
   "metadata": {},
   "outputs": [
    {
     "data": {
      "text/plain": [
       "'The __init__ function is a special method in Python classes and is used to initialize the objects of a class when they are created. It is automatically called when an object is created from the class and is used to set the initial state of the object.'"
      ]
     },
     "execution_count": 8,
     "metadata": {},
     "output_type": "execute_result"
    }
   ],
   "source": [
    "'''The __init__ function is a special method in Python classes and is used to initialize the objects of a class when they are created. It is automatically called when an object is created from the class and is used to set the initial state of the object.'''"
   ]
  },
  {
   "cell_type": "code",
   "execution_count": 9,
   "id": "6505cd1a-77ee-4913-bf49-80e105607e95",
   "metadata": {},
   "outputs": [],
   "source": [
    "class Person:\n",
    "    def __init__(self, name, age):\n",
    "        self.name = name\n",
    "        self.age = age\n",
    "\n",
    "    def get_details(self):\n",
    "        return f\"Name: {self.name}, Age: {self.age}\""
   ]
  },
  {
   "cell_type": "code",
   "execution_count": 11,
   "id": "40500a0b-b15c-4a5f-b8b5-7df2e296c098",
   "metadata": {},
   "outputs": [
    {
     "data": {
      "text/plain": [
       "'In object-oriented programming, self refers to the instance of the object on which a method is being called. It is used to refer to instance variables, instance methods and to access instance-specific data within an object. Using self ensures that the method operates on the correct instance and makes the code more readable and maintainable.'"
      ]
     },
     "execution_count": 11,
     "metadata": {},
     "output_type": "execute_result"
    }
   ],
   "source": [
    "'''In object-oriented programming, self refers to the instance of the object on which a method is being called. It is used to refer to instance variables, instance methods and to access instance-specific data within an object. Using self ensures that the method operates on the correct instance and makes the code more readable and maintainable.'''"
   ]
  },
  {
   "cell_type": "code",
   "execution_count": 12,
   "id": "d15a5d9e-7e87-4c69-8f18-c04e6c8c6f4d",
   "metadata": {},
   "outputs": [
    {
     "data": {
      "text/plain": [
       "'Inheritance is a mechanism in object-oriented programming where an object can inherit properties and behaviors from a parent object.\\n\\nThere are several types of inheritance, including:\\n\\nSingle inheritance: A derived class (child class) inherits from a single base class (parent class). Example: class Student inherits from class Person.\\n\\nMultiple inheritance: A derived class inherits from multiple base classes. Example: class Chef inherits from classes Cook and Baker.\\n\\nHierarchical inheritance: Multiple derived classes inherit from a single base class. Example: class Dog, class Cat, and class Mouse inherit from class Animal.\\n\\nHybrid inheritance: A combination of two or more types of inheritance. Example: class Manager inherits from classes Employee and DepartmentHead.\\n\\nThe main advantage of inheritance is that it provides code reusability and allows for creating hierarchical class structures that model real-world relationships.'"
      ]
     },
     "execution_count": 12,
     "metadata": {},
     "output_type": "execute_result"
    }
   ],
   "source": [
    "'''Inheritance is a mechanism in object-oriented programming where an object can inherit properties and behaviors from a parent object.\n",
    "\n",
    "There are several types of inheritance, including:\n",
    "\n",
    "Single inheritance: A derived class (child class) inherits from a single base class (parent class). Example: class Student inherits from class Person.\n",
    "\n",
    "Multiple inheritance: A derived class inherits from multiple base classes. Example: class Chef inherits from classes Cook and Baker.\n",
    "\n",
    "Hierarchical inheritance: Multiple derived classes inherit from a single base class. Example: class Dog, class Cat, and class Mouse inherit from class Animal.\n",
    "\n",
    "Hybrid inheritance: A combination of two or more types of inheritance. Example: class Manager inherits from classes Employee and DepartmentHead.\n",
    "\n",
    "The main advantage of inheritance is that it provides code reusability and allows for creating hierarchical class structures that model real-world relationships.'''"
   ]
  },
  {
   "cell_type": "code",
   "execution_count": null,
   "id": "bbde6ba2-f020-480b-9d36-12f3c5b04bfc",
   "metadata": {},
   "outputs": [],
   "source": []
  }
 ],
 "metadata": {
  "kernelspec": {
   "display_name": "Python 3 (ipykernel)",
   "language": "python",
   "name": "python3"
  },
  "language_info": {
   "codemirror_mode": {
    "name": "ipython",
    "version": 3
   },
   "file_extension": ".py",
   "mimetype": "text/x-python",
   "name": "python",
   "nbconvert_exporter": "python",
   "pygments_lexer": "ipython3",
   "version": "3.10.8"
  }
 },
 "nbformat": 4,
 "nbformat_minor": 5
}
